{
 "cells": [
  {
   "cell_type": "code",
   "execution_count": 3,
   "metadata": {},
   "outputs": [],
   "source": [
    "from pythonosc import udp_client\n",
    "\n",
    "# Set up the OSC client\n",
    "client = udp_client.SimpleUDPClient(\"192.168.2.60\", 9000)  # Send messages to localhost on port 9000\n",
    "\n",
    "# Assuming 'output' is the value you want to send (e.g., from your emotion detection model)\n",
    "output = 0.01  # Example output value (this would come from your emotion detection model)\n",
    "\n",
    "# Send the message to the new OSC path '/heightofwave'\n",
    "client.send_message(\"/heightofwave\", output)"
   ]
  },
  {
   "cell_type": "code",
   "execution_count": 6,
   "metadata": {},
   "outputs": [
    {
     "data": {
      "text/plain": [
       "float"
      ]
     },
     "execution_count": 6,
     "metadata": {},
     "output_type": "execute_result"
    }
   ],
   "source": [
    "import random\n",
    "type(random.random())"
   ]
  },
  {
   "cell_type": "code",
   "execution_count": 2,
   "metadata": {},
   "outputs": [
    {
     "name": "stdout",
     "output_type": "stream",
     "text": [
      "aaa\n"
     ]
    }
   ],
   "source": [
    "if 4 in [1,4]:\n",
    "    print('aaa')"
   ]
  }
 ],
 "metadata": {
  "kernelspec": {
   "display_name": "thrdenv",
   "language": "python",
   "name": "python3"
  },
  "language_info": {
   "codemirror_mode": {
    "name": "ipython",
    "version": 3
   },
   "file_extension": ".py",
   "mimetype": "text/x-python",
   "name": "python",
   "nbconvert_exporter": "python",
   "pygments_lexer": "ipython3",
   "version": "3.12.7"
  }
 },
 "nbformat": 4,
 "nbformat_minor": 2
}
